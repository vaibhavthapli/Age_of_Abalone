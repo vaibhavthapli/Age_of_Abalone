{
 "cells": [
  {
   "cell_type": "markdown",
   "id": "fbfe22499cf27532",
   "metadata": {},
   "source": [
    "Analysis"
   ]
  },
  {
   "cell_type": "code",
   "execution_count": 1,
   "id": "3902016c69847ce4",
   "metadata": {
    "ExecuteTime": {
     "end_time": "2025-02-01T06:44:39.002860Z",
     "start_time": "2025-02-01T06:44:38.983315Z"
    }
   },
   "outputs": [],
   "source": [
    "import pandas as pd\n",
    "import numpy as np\n",
    "import matplotlib.pyplot as plt\n",
    "import seaborn as sns\n",
    "import warnings\n",
    "warnings.filterwarnings('ignore')\n",
    "%matplotlib inline"
   ]
  },
  {
   "cell_type": "code",
   "execution_count": 2,
   "id": "cc852ddbe906d096",
   "metadata": {
    "ExecuteTime": {
     "end_time": "2025-02-01T06:52:30.197765Z",
     "start_time": "2025-02-01T06:52:30.178615Z"
    }
   },
   "outputs": [],
   "source": [
    "df = pd.read_csv('data/train.csv')"
   ]
  },
  {
   "cell_type": "code",
   "execution_count": 3,
   "id": "18c849ef8345ce20",
   "metadata": {
    "ExecuteTime": {
     "end_time": "2025-02-01T06:52:36.955009Z",
     "start_time": "2025-02-01T06:52:36.948319Z"
    }
   },
   "outputs": [
    {
     "data": {
      "text/plain": [
       "(308, 10)"
      ]
     },
     "execution_count": 3,
     "metadata": {},
     "output_type": "execute_result"
    }
   ],
   "source": [
    "df.shape"
   ]
  },
  {
   "cell_type": "code",
   "execution_count": 4,
   "id": "a6a5b6304e08ce58",
   "metadata": {
    "ExecuteTime": {
     "end_time": "2025-02-01T06:52:46.297218Z",
     "start_time": "2025-02-01T06:52:46.280750Z"
    }
   },
   "outputs": [
    {
     "data": {
      "text/plain": [
       "id                0\n",
       "sex               0\n",
       "length            0\n",
       "diameter          0\n",
       "height            0\n",
       "whole_weight      0\n",
       "shucked_weight    0\n",
       "viscera_weight    0\n",
       "shell_weight      0\n",
       "rings             0\n",
       "dtype: int64"
      ]
     },
     "execution_count": 4,
     "metadata": {},
     "output_type": "execute_result"
    }
   ],
   "source": [
    "df.isnull().sum()"
   ]
  },
  {
   "cell_type": "code",
   "execution_count": 5,
   "id": "c7e1a069727d8113",
   "metadata": {
    "ExecuteTime": {
     "end_time": "2025-02-01T06:53:12.856208Z",
     "start_time": "2025-02-01T06:53:12.839102Z"
    }
   },
   "outputs": [
    {
     "data": {
      "text/plain": [
       "np.int64(0)"
      ]
     },
     "execution_count": 5,
     "metadata": {},
     "output_type": "execute_result"
    }
   ],
   "source": [
    "df.duplicated().sum()"
   ]
  },
  {
   "cell_type": "code",
   "execution_count": 6,
   "id": "9369b43e3eeba3e9",
   "metadata": {
    "ExecuteTime": {
     "end_time": "2025-02-01T06:53:32.787875Z",
     "start_time": "2025-02-01T06:53:32.752875Z"
    }
   },
   "outputs": [
    {
     "data": {
      "text/html": [
       "<div>\n",
       "<style scoped>\n",
       "    .dataframe tbody tr th:only-of-type {\n",
       "        vertical-align: middle;\n",
       "    }\n",
       "\n",
       "    .dataframe tbody tr th {\n",
       "        vertical-align: top;\n",
       "    }\n",
       "\n",
       "    .dataframe thead th {\n",
       "        text-align: right;\n",
       "    }\n",
       "</style>\n",
       "<table border=\"1\" class=\"dataframe\">\n",
       "  <thead>\n",
       "    <tr style=\"text-align: right;\">\n",
       "      <th></th>\n",
       "      <th>id</th>\n",
       "      <th>length</th>\n",
       "      <th>diameter</th>\n",
       "      <th>height</th>\n",
       "      <th>whole_weight</th>\n",
       "      <th>shucked_weight</th>\n",
       "      <th>viscera_weight</th>\n",
       "      <th>shell_weight</th>\n",
       "      <th>rings</th>\n",
       "    </tr>\n",
       "  </thead>\n",
       "  <tbody>\n",
       "    <tr>\n",
       "      <th>count</th>\n",
       "      <td>308.000000</td>\n",
       "      <td>308.000000</td>\n",
       "      <td>308.000000</td>\n",
       "      <td>308.000000</td>\n",
       "      <td>308.000000</td>\n",
       "      <td>308.000000</td>\n",
       "      <td>308.000000</td>\n",
       "      <td>308.000000</td>\n",
       "      <td>308.00000</td>\n",
       "    </tr>\n",
       "    <tr>\n",
       "      <th>mean</th>\n",
       "      <td>173.441558</td>\n",
       "      <td>0.491250</td>\n",
       "      <td>0.385601</td>\n",
       "      <td>0.135049</td>\n",
       "      <td>0.731093</td>\n",
       "      <td>0.285502</td>\n",
       "      <td>0.158534</td>\n",
       "      <td>0.234782</td>\n",
       "      <td>10.87987</td>\n",
       "    </tr>\n",
       "    <tr>\n",
       "      <th>std</th>\n",
       "      <td>100.524779</td>\n",
       "      <td>0.125718</td>\n",
       "      <td>0.103905</td>\n",
       "      <td>0.041822</td>\n",
       "      <td>0.476026</td>\n",
       "      <td>0.181122</td>\n",
       "      <td>0.101806</td>\n",
       "      <td>0.163721</td>\n",
       "      <td>4.03105</td>\n",
       "    </tr>\n",
       "    <tr>\n",
       "      <th>min</th>\n",
       "      <td>1.000000</td>\n",
       "      <td>0.075000</td>\n",
       "      <td>0.055000</td>\n",
       "      <td>0.010000</td>\n",
       "      <td>0.002000</td>\n",
       "      <td>0.001000</td>\n",
       "      <td>0.000500</td>\n",
       "      <td>0.001500</td>\n",
       "      <td>1.00000</td>\n",
       "    </tr>\n",
       "    <tr>\n",
       "      <th>25%</th>\n",
       "      <td>83.750000</td>\n",
       "      <td>0.415000</td>\n",
       "      <td>0.320000</td>\n",
       "      <td>0.105000</td>\n",
       "      <td>0.352625</td>\n",
       "      <td>0.140875</td>\n",
       "      <td>0.075375</td>\n",
       "      <td>0.115000</td>\n",
       "      <td>8.00000</td>\n",
       "    </tr>\n",
       "    <tr>\n",
       "      <th>50%</th>\n",
       "      <td>176.500000</td>\n",
       "      <td>0.515000</td>\n",
       "      <td>0.405000</td>\n",
       "      <td>0.135000</td>\n",
       "      <td>0.689000</td>\n",
       "      <td>0.274000</td>\n",
       "      <td>0.151000</td>\n",
       "      <td>0.210000</td>\n",
       "      <td>10.00000</td>\n",
       "    </tr>\n",
       "    <tr>\n",
       "      <th>75%</th>\n",
       "      <td>260.250000</td>\n",
       "      <td>0.580000</td>\n",
       "      <td>0.461250</td>\n",
       "      <td>0.165000</td>\n",
       "      <td>1.013000</td>\n",
       "      <td>0.394875</td>\n",
       "      <td>0.222875</td>\n",
       "      <td>0.325000</td>\n",
       "      <td>13.00000</td>\n",
       "    </tr>\n",
       "    <tr>\n",
       "      <th>max</th>\n",
       "      <td>343.000000</td>\n",
       "      <td>0.725000</td>\n",
       "      <td>0.575000</td>\n",
       "      <td>0.240000</td>\n",
       "      <td>2.550000</td>\n",
       "      <td>1.070500</td>\n",
       "      <td>0.541000</td>\n",
       "      <td>1.005000</td>\n",
       "      <td>26.00000</td>\n",
       "    </tr>\n",
       "  </tbody>\n",
       "</table>\n",
       "</div>"
      ],
      "text/plain": [
       "               id      length    diameter      height  whole_weight  \\\n",
       "count  308.000000  308.000000  308.000000  308.000000    308.000000   \n",
       "mean   173.441558    0.491250    0.385601    0.135049      0.731093   \n",
       "std    100.524779    0.125718    0.103905    0.041822      0.476026   \n",
       "min      1.000000    0.075000    0.055000    0.010000      0.002000   \n",
       "25%     83.750000    0.415000    0.320000    0.105000      0.352625   \n",
       "50%    176.500000    0.515000    0.405000    0.135000      0.689000   \n",
       "75%    260.250000    0.580000    0.461250    0.165000      1.013000   \n",
       "max    343.000000    0.725000    0.575000    0.240000      2.550000   \n",
       "\n",
       "       shucked_weight  viscera_weight  shell_weight      rings  \n",
       "count      308.000000      308.000000    308.000000  308.00000  \n",
       "mean         0.285502        0.158534      0.234782   10.87987  \n",
       "std          0.181122        0.101806      0.163721    4.03105  \n",
       "min          0.001000        0.000500      0.001500    1.00000  \n",
       "25%          0.140875        0.075375      0.115000    8.00000  \n",
       "50%          0.274000        0.151000      0.210000   10.00000  \n",
       "75%          0.394875        0.222875      0.325000   13.00000  \n",
       "max          1.070500        0.541000      1.005000   26.00000  "
      ]
     },
     "execution_count": 6,
     "metadata": {},
     "output_type": "execute_result"
    }
   ],
   "source": [
    "df.describe()"
   ]
  },
  {
   "attachments": {
    "d80aa381-f9b5-4b9e-a170-1e260805603d.png": {
     "image/png": "[encoded data removed]"
    }
   },
   "cell_type": "markdown",
   "id": "3bc79265451f6edc",
   "metadata": {},
   "source": [
    "Distribution\n",
    "\n",
    "(Positive Distribution) Right skewed: Mean > Median> Mode\n",
    "\n",
    "(Negative Distribution) left skewed: Mode > Median > Mean\n",
    "\n",
    "(Normal Distribution) zero skewed: Mode = Median = Mean\n",
    "\n",
    "![skweness.png](attachment:d80aa381-f9b5-4b9e-a170-1e260805603d.png)"
   ]
  },
  {
   "metadata": {
    "ExecuteTime": {
     "end_time": "2025-02-01T07:16:19.188675Z",
     "start_time": "2025-02-01T07:16:19.174971Z"
    }
   },
   "cell_type": "code",
   "source": "df.head(2)",
   "id": "22144d194d16119c",
   "outputs": [
    {
     "data": {
      "text/plain": [
       "    id sex  length  diameter  height  whole_weight  shucked_weight  \\\n",
       "0    6   I   0.425      0.30   0.095        0.3515           0.141   \n",
       "1  210   I   0.370      0.28   0.095        0.2655           0.122   \n",
       "\n",
       "   viscera_weight  shell_weight  rings  \n",
       "0          0.0775          0.12      8  \n",
       "1          0.0520          0.08      7  "
      ],
      "text/html": [
       "<div>\n",
       "<style scoped>\n",
       "    .dataframe tbody tr th:only-of-type {\n",
       "        vertical-align: middle;\n",
       "    }\n",
       "\n",
       "    .dataframe tbody tr th {\n",
       "        vertical-align: top;\n",
       "    }\n",
       "\n",
       "    .dataframe thead th {\n",
       "        text-align: right;\n",
       "    }\n",
       "</style>\n",
       "<table border=\"1\" class=\"dataframe\">\n",
       "  <thead>\n",
       "    <tr style=\"text-align: right;\">\n",
       "      <th></th>\n",
       "      <th>id</th>\n",
       "      <th>sex</th>\n",
       "      <th>length</th>\n",
       "      <th>diameter</th>\n",
       "      <th>height</th>\n",
       "      <th>whole_weight</th>\n",
       "      <th>shucked_weight</th>\n",
       "      <th>viscera_weight</th>\n",
       "      <th>shell_weight</th>\n",
       "      <th>rings</th>\n",
       "    </tr>\n",
       "  </thead>\n",
       "  <tbody>\n",
       "    <tr>\n",
       "      <th>0</th>\n",
       "      <td>6</td>\n",
       "      <td>I</td>\n",
       "      <td>0.425</td>\n",
       "      <td>0.30</td>\n",
       "      <td>0.095</td>\n",
       "      <td>0.3515</td>\n",
       "      <td>0.141</td>\n",
       "      <td>0.0775</td>\n",
       "      <td>0.12</td>\n",
       "      <td>8</td>\n",
       "    </tr>\n",
       "    <tr>\n",
       "      <th>1</th>\n",
       "      <td>210</td>\n",
       "      <td>I</td>\n",
       "      <td>0.370</td>\n",
       "      <td>0.28</td>\n",
       "      <td>0.095</td>\n",
       "      <td>0.2655</td>\n",
       "      <td>0.122</td>\n",
       "      <td>0.0520</td>\n",
       "      <td>0.08</td>\n",
       "      <td>7</td>\n",
       "    </tr>\n",
       "  </tbody>\n",
       "</table>\n",
       "</div>"
      ]
     },
     "execution_count": 7,
     "metadata": {},
     "output_type": "execute_result"
    }
   ],
   "execution_count": 7
  },
  {
   "metadata": {},
   "cell_type": "markdown",
   "source": "As dataset is already standardized",
   "id": "f44363cf38d33519"
  },
  {
   "metadata": {},
   "cell_type": "code",
   "outputs": [],
   "execution_count": null,
   "source": "",
   "id": "5946b3b281fa759e"
  },
  {
   "metadata": {},
   "cell_type": "code",
   "outputs": [],
   "execution_count": null,
   "source": "",
   "id": "ae3b2a4880721366"
  },
  {
   "cell_type": "code",
   "execution_count": null,
   "id": "65f671ee01456c74",
   "metadata": {},
   "outputs": [],
   "source": []
  },
  {
   "cell_type": "code",
   "execution_count": null,
   "id": "50877c5c98fd9c9d",
   "metadata": {},
   "outputs": [],
   "source": []
  },
  {
   "cell_type": "code",
   "execution_count": null,
   "id": "f2e9a4baa100ca42",
   "metadata": {},
   "outputs": [],
   "source": []
  },
  {
   "cell_type": "code",
   "execution_count": null,
   "id": "2b192a3dac73eac",
   "metadata": {},
   "outputs": [],
   "source": []
  }
 ],
 "metadata": {
  "kernelspec": {
   "display_name": "abalone",
   "language": "python",
   "name": "abalone"
  },
  "language_info": {
   "codemirror_mode": {
    "name": "ipython",
    "version": 3
   },
   "file_extension": ".py",
   "mimetype": "text/x-python",
   "name": "python",
   "nbconvert_exporter": "python",
   "pygments_lexer": "ipython3",
   "version": "3.12.3"
  }
 },
 "nbformat": 4,
 "nbformat_minor": 5
}
