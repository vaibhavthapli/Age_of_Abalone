{
 "cells": [
  {
   "cell_type": "code",
   "id": "initial_id",
   "metadata": {
    "collapsed": true,
    "ExecuteTime": {
     "end_time": "2025-02-02T16:20:21.596144Z",
     "start_time": "2025-02-02T16:20:21.583318Z"
    }
   },
   "source": [
    "import pandas as pd\n",
    "import numpy as np\n",
    "import matplotlib.pyplot as plt\n",
    "import seaborn as sns\n",
    "import warnings\n",
    "from sklearn.preprocessing import PowerTransformer, OneHotEncoder, FunctionTransformer\n",
    "from sklearn.pipeline import Pipeline\n",
    "from sklearn.compose import ColumnTransformer\n",
    "\n",
    "\n",
    "warnings.filterwarnings('ignore')\n",
    "%matplotlib inline"
   ],
   "outputs": [],
   "execution_count": 36
  },
  {
   "metadata": {
    "ExecuteTime": {
     "end_time": "2025-02-02T16:20:21.652649Z",
     "start_time": "2025-02-02T16:20:21.638431Z"
    }
   },
   "cell_type": "code",
   "source": [
    "df = pd.read_csv('data/train.csv')\n",
    "df.head()"
   ],
   "id": "6ddbad73297bf196",
   "outputs": [
    {
     "data": {
      "text/plain": [
       "    id sex  length  diameter  height  whole_weight  shucked_weight  \\\n",
       "0    6   I   0.425     0.300   0.095        0.3515          0.1410   \n",
       "1  210   I   0.370     0.280   0.095        0.2655          0.1220   \n",
       "2  333   I   0.475     0.365   0.115        0.4990          0.2320   \n",
       "3  111   M   0.495     0.395   0.125        0.5415          0.2375   \n",
       "4   77   M   0.595     0.475   0.140        0.9440          0.3625   \n",
       "\n",
       "   viscera_weight  shell_weight  rings  \n",
       "0          0.0775         0.120      8  \n",
       "1          0.0520         0.080      7  \n",
       "2          0.0885         0.156     10  \n",
       "3          0.1345         0.155      9  \n",
       "4          0.1890         0.315      9  "
      ],
      "text/html": [
       "<div>\n",
       "<style scoped>\n",
       "    .dataframe tbody tr th:only-of-type {\n",
       "        vertical-align: middle;\n",
       "    }\n",
       "\n",
       "    .dataframe tbody tr th {\n",
       "        vertical-align: top;\n",
       "    }\n",
       "\n",
       "    .dataframe thead th {\n",
       "        text-align: right;\n",
       "    }\n",
       "</style>\n",
       "<table border=\"1\" class=\"dataframe\">\n",
       "  <thead>\n",
       "    <tr style=\"text-align: right;\">\n",
       "      <th></th>\n",
       "      <th>id</th>\n",
       "      <th>sex</th>\n",
       "      <th>length</th>\n",
       "      <th>diameter</th>\n",
       "      <th>height</th>\n",
       "      <th>whole_weight</th>\n",
       "      <th>shucked_weight</th>\n",
       "      <th>viscera_weight</th>\n",
       "      <th>shell_weight</th>\n",
       "      <th>rings</th>\n",
       "    </tr>\n",
       "  </thead>\n",
       "  <tbody>\n",
       "    <tr>\n",
       "      <th>0</th>\n",
       "      <td>6</td>\n",
       "      <td>I</td>\n",
       "      <td>0.425</td>\n",
       "      <td>0.300</td>\n",
       "      <td>0.095</td>\n",
       "      <td>0.3515</td>\n",
       "      <td>0.1410</td>\n",
       "      <td>0.0775</td>\n",
       "      <td>0.120</td>\n",
       "      <td>8</td>\n",
       "    </tr>\n",
       "    <tr>\n",
       "      <th>1</th>\n",
       "      <td>210</td>\n",
       "      <td>I</td>\n",
       "      <td>0.370</td>\n",
       "      <td>0.280</td>\n",
       "      <td>0.095</td>\n",
       "      <td>0.2655</td>\n",
       "      <td>0.1220</td>\n",
       "      <td>0.0520</td>\n",
       "      <td>0.080</td>\n",
       "      <td>7</td>\n",
       "    </tr>\n",
       "    <tr>\n",
       "      <th>2</th>\n",
       "      <td>333</td>\n",
       "      <td>I</td>\n",
       "      <td>0.475</td>\n",
       "      <td>0.365</td>\n",
       "      <td>0.115</td>\n",
       "      <td>0.4990</td>\n",
       "      <td>0.2320</td>\n",
       "      <td>0.0885</td>\n",
       "      <td>0.156</td>\n",
       "      <td>10</td>\n",
       "    </tr>\n",
       "    <tr>\n",
       "      <th>3</th>\n",
       "      <td>111</td>\n",
       "      <td>M</td>\n",
       "      <td>0.495</td>\n",
       "      <td>0.395</td>\n",
       "      <td>0.125</td>\n",
       "      <td>0.5415</td>\n",
       "      <td>0.2375</td>\n",
       "      <td>0.1345</td>\n",
       "      <td>0.155</td>\n",
       "      <td>9</td>\n",
       "    </tr>\n",
       "    <tr>\n",
       "      <th>4</th>\n",
       "      <td>77</td>\n",
       "      <td>M</td>\n",
       "      <td>0.595</td>\n",
       "      <td>0.475</td>\n",
       "      <td>0.140</td>\n",
       "      <td>0.9440</td>\n",
       "      <td>0.3625</td>\n",
       "      <td>0.1890</td>\n",
       "      <td>0.315</td>\n",
       "      <td>9</td>\n",
       "    </tr>\n",
       "  </tbody>\n",
       "</table>\n",
       "</div>"
      ]
     },
     "execution_count": 37,
     "metadata": {},
     "output_type": "execute_result"
    }
   ],
   "execution_count": 37
  },
  {
   "metadata": {
    "ExecuteTime": {
     "end_time": "2025-02-02T16:20:21.721514Z",
     "start_time": "2025-02-02T16:20:21.717790Z"
    }
   },
   "cell_type": "code",
   "source": "df.shape",
   "id": "607adeec45a37bc8",
   "outputs": [
    {
     "data": {
      "text/plain": [
       "(308, 10)"
      ]
     },
     "execution_count": 38,
     "metadata": {},
     "output_type": "execute_result"
    }
   ],
   "execution_count": 38
  },
  {
   "metadata": {},
   "cell_type": "code",
   "outputs": [],
   "execution_count": null,
   "source": "",
   "id": "365380dc29e03081"
  },
  {
   "metadata": {},
   "cell_type": "code",
   "outputs": [],
   "execution_count": null,
   "source": "",
   "id": "a0444b229f19e0d4"
  },
  {
   "metadata": {},
   "cell_type": "code",
   "outputs": [],
   "execution_count": null,
   "source": "",
   "id": "3573edb248c79c84"
  },
  {
   "metadata": {},
   "cell_type": "code",
   "outputs": [],
   "execution_count": null,
   "source": "",
   "id": "28af9645fd6b5e58"
  },
  {
   "metadata": {},
   "cell_type": "code",
   "outputs": [],
   "execution_count": null,
   "source": "",
   "id": "b5beeb355c423db4"
  }
 ],
 "metadata": {
  "kernelspec": {
   "display_name": "abalone",
   "language": "python",
   "name": "abalone"
  },
  "language_info": {
   "codemirror_mode": {
    "name": "ipython",
    "version": 2
   },
   "file_extension": ".py",
   "mimetype": "text/x-python",
   "name": "python",
   "nbconvert_exporter": "python",
   "pygments_lexer": "ipython2",
   "version": "2.7.6"
  }
 },
 "nbformat": 4,
 "nbformat_minor": 5
}
